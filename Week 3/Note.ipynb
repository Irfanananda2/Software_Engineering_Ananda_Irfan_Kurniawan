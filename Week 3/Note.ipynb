{
 "cells": [
  {
   "cell_type": "code",
   "execution_count": 2,
   "source": [
    "#list\r\n",
    "#Dictionary\r\n",
    "#Tuple\r\n",
    "#Looping\r\n",
    "#Function"
   ],
   "outputs": [],
   "metadata": {}
  },
  {
   "cell_type": "code",
   "execution_count": 3,
   "source": [
    "#list\r\n",
    "list_sample = [\"Irfan\",23,3.4,[\"Ananda\", \"Kurniawan\"], True]\r\n",
    "print(list_sample[0])\r\n",
    "print(list_sample[2])\r\n",
    "print(list_sample[-1])\r\n"
   ],
   "outputs": [
    {
     "output_type": "stream",
     "name": "stdout",
     "text": [
      "Irfan\n",
      "3.4\n",
      "True\n"
     ]
    }
   ],
   "metadata": {}
  },
  {
   "cell_type": "code",
   "execution_count": 4,
   "source": [
    "#Dictionary\r\n",
    "Dic_sample = {\"Irfan\":\"Kawan\", 23:90,3.4:5.4,True:False}\r\n",
    "print(Dic_sample[\"Irfan\"])\r\n",
    "print(Dic_sample[23])\r\n",
    "print(Dic_sample[True])\r\n"
   ],
   "outputs": [
    {
     "output_type": "stream",
     "name": "stdout",
     "text": [
      "Kawan\n",
      "90\n",
      "False\n"
     ]
    }
   ],
   "metadata": {}
  },
  {
   "cell_type": "code",
   "execution_count": 5,
   "source": [
    "Dic_sample.keys()"
   ],
   "outputs": [
    {
     "output_type": "execute_result",
     "data": {
      "text/plain": [
       "dict_keys(['Irfan', 23, 3.4, True])"
      ]
     },
     "metadata": {},
     "execution_count": 5
    }
   ],
   "metadata": {}
  },
  {
   "cell_type": "code",
   "execution_count": 6,
   "source": [
    "IniList = [9,2,3]\r\n",
    "IniList.append(10)\r\n",
    "IniList"
   ],
   "outputs": [
    {
     "output_type": "execute_result",
     "data": {
      "text/plain": [
       "[9, 2, 3, 10]"
      ]
     },
     "metadata": {},
     "execution_count": 6
    }
   ],
   "metadata": {}
  },
  {
   "cell_type": "code",
   "execution_count": 7,
   "source": [
    "IniList.insert(0,30)\r\n",
    "IniList"
   ],
   "outputs": [
    {
     "output_type": "execute_result",
     "data": {
      "text/plain": [
       "[30, 9, 2, 3, 10]"
      ]
     },
     "metadata": {},
     "execution_count": 7
    }
   ],
   "metadata": {}
  },
  {
   "cell_type": "code",
   "execution_count": 8,
   "source": [
    "IniList.pop()\r\n",
    "IniList"
   ],
   "outputs": [
    {
     "output_type": "execute_result",
     "data": {
      "text/plain": [
       "[30, 9, 2, 3]"
      ]
     },
     "metadata": {},
     "execution_count": 8
    }
   ],
   "metadata": {}
  },
  {
   "cell_type": "code",
   "execution_count": 9,
   "source": [
    "IniList.sort()\r\n",
    "IniList"
   ],
   "outputs": [
    {
     "output_type": "execute_result",
     "data": {
      "text/plain": [
       "[2, 3, 9, 30]"
      ]
     },
     "metadata": {},
     "execution_count": 9
    }
   ],
   "metadata": {}
  },
  {
   "cell_type": "code",
   "execution_count": 10,
   "source": [
    "a = 2\r\n",
    "while a < 4:\r\n",
    "    print(a)\r\n",
    "    a+=1"
   ],
   "outputs": [
    {
     "output_type": "stream",
     "name": "stdout",
     "text": [
      "2\n",
      "3\n"
     ]
    }
   ],
   "metadata": {}
  },
  {
   "cell_type": "code",
   "execution_count": 12,
   "source": [
    "while True:\r\n",
    "    umur = int(input())\r\n",
    "    if umur >= 21:\r\n",
    "        print(\"U're allowed\")\r\n",
    "        break\r\n",
    "    elif umur < 21:\r\n",
    "        print(\"U're Underage\")\r\n",
    "        continue"
   ],
   "outputs": [
    {
     "output_type": "stream",
     "name": "stdout",
     "text": [
      "U're Underage\n",
      "U're Underage\n",
      "U're Underage\n",
      "U're Underage\n",
      "U're allowed\n"
     ]
    }
   ],
   "metadata": {}
  }
 ],
 "metadata": {
  "orig_nbformat": 4,
  "language_info": {
   "name": "python",
   "version": "3.9.4",
   "mimetype": "text/x-python",
   "codemirror_mode": {
    "name": "ipython",
    "version": 3
   },
   "pygments_lexer": "ipython3",
   "nbconvert_exporter": "python",
   "file_extension": ".py"
  },
  "kernelspec": {
   "name": "python3",
   "display_name": "Python 3.9.4 64-bit"
  },
  "interpreter": {
   "hash": "4ce0e62306dd6a5716965d4519ada776f947e6dfc145b604b11307c10277ef29"
  }
 },
 "nbformat": 4,
 "nbformat_minor": 2
}