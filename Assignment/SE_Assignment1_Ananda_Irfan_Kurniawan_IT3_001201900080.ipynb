{
  "nbformat": 4,
  "nbformat_minor": 0,
  "metadata": {
    "colab": {
      "name": "SE Assignment1_Ananda Irfan Kurniawan_IT3_001201900080.ipynb",
      "provenance": []
    },
    "kernelspec": {
      "name": "python3",
      "display_name": "Python 3"
    },
    "language_info": {
      "name": "python"
    }
  },
  "cells": [
    {
      "cell_type": "code",
      "metadata": {
        "colab": {
          "base_uri": "https://localhost:8080/"
        },
        "id": "1vUkHJUbGjk0",
        "outputId": "5fafafb1-c1aa-4730-e6d8-1882689605ba"
      },
      "source": [
        "a = int(input(\"Please Input the number :) = \"))\n",
        "\n",
        "if a > 20:\n",
        "  print(\"Hehe\")\n",
        "else:\n",
        "  print(\"haha\")"
      ],
      "execution_count": 2,
      "outputs": [
        {
          "output_type": "stream",
          "name": "stdout",
          "text": [
            "Please Input the number :) = 2\n",
            "haha\n"
          ]
        }
      ]
    }
  ]
}