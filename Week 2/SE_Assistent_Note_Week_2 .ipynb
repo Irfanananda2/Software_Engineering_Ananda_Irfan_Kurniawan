{
  "nbformat": 4,
  "nbformat_minor": 0,
  "metadata": {
    "colab": {
      "name": "SE Assistent Note Week 2.ipynb",
      "provenance": []
    },
    "kernelspec": {
      "name": "python3",
      "display_name": "Python 3"
    },
    "language_info": {
      "name": "python"
    }
  },
  "cells": [
    {
      "cell_type": "code",
      "metadata": {
        "id": "H2uZoDjCcQl3"
      },
      "source": [
        "#Variable\n",
        "a = 10      #int\n",
        "b = 0.222   #Float\n",
        "c = \"Irfan\" #String\n",
        "d = \"I\"     #String\n",
        "e = 'Irfan' #String\n",
        "f = 'I'     #String\n",
        "g = []      #List\n",
        "h = {}      #Dictionary\n",
        "i = ()      #Tuple\n",
        "j = True    #Bool\n",
        "k = False   #Bool "
      ],
      "execution_count": null,
      "outputs": []
    },
    {
      "cell_type": "code",
      "metadata": {
        "colab": {
          "base_uri": "https://localhost:8080/"
        },
        "id": "vNU0KoDooZYb",
        "outputId": "823cedde-fe7f-43b9-9ce1-08aafa2e83b8"
      },
      "source": [
        "#Printing for Debugging\n",
        "print(c)\n",
        "print(a)"
      ],
      "execution_count": null,
      "outputs": [
        {
          "output_type": "stream",
          "name": "stdout",
          "text": [
            "Irfan\n",
            "10\n"
          ]
        }
      ]
    },
    {
      "cell_type": "code",
      "metadata": {
        "colab": {
          "base_uri": "https://localhost:8080/"
        },
        "id": "pxqedm2Vouat",
        "outputId": "b3007506-1131-4bfa-94fb-f3e430e5eb24"
      },
      "source": [
        "#Operator\n",
        "import math\n",
        "a + b\n",
        "a - b\n",
        "a * b         #Multiplication\n",
        "a / b         #Float Division\n",
        "a // b        #Int Division\n",
        "a ** b        #Power of\n",
        "a % b         #Modulus\n",
        "a ** (1/2)    #Square root\n",
        "math.sqrt(a)  #Square root with math Library Function\n",
        "math.sin(a)\n",
        "math.cos(a)\n",
        "math.tan(a)\n",
        "math.log(a)"
      ],
      "execution_count": null,
      "outputs": [
        {
          "output_type": "execute_result",
          "data": {
            "text/plain": [
              "2.302585092994046"
            ]
          },
          "metadata": {},
          "execution_count": 9
        }
      ]
    },
    {
      "cell_type": "code",
      "metadata": {
        "colab": {
          "base_uri": "https://localhost:8080/"
        },
        "id": "qMhkNxXFphX0",
        "outputId": "18dcee1e-0004-4e32-c907-da3d261c4a47"
      },
      "source": [
        "#If else\n",
        "a = int(input(\"Please Input the number :) = \"))\n",
        "\n",
        "if a < 20 and a > 0:\n",
        "  print(\"Hehe\")\n",
        "elif a < 40 and a > 20:\n",
        "  print(\"hihi\")\n",
        "elif a < 60 and a > 40:\n",
        "  print(\"huhu\")\n",
        "elif a < 80 and a > 60:\n",
        "  print(\"huhu\")\n",
        "else:\n",
        "  print(\"haha\")\n",
        "\n"
      ],
      "execution_count": 3,
      "outputs": [
        {
          "output_type": "stream",
          "name": "stdout",
          "text": [
            "Please Input the number :) = 70\n",
            "huhu\n"
          ]
        }
      ]
    }
  ]
}